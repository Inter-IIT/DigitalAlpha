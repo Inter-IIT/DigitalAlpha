{
 "cells": [
  {
   "cell_type": "markdown",
   "metadata": {},
   "source": [
    "# **EXPLORER FOR SEC FILINGS**\n",
    "<hr>\n",
    "\n",
    "## Inter IIT Tech Meet 10.0 (2022)\n",
    "\n",
    "![image](https://www.sec.gov/edgar/search/images/edgar-logo-2x.png)\n",
    "![image](https://interiit-tech.org/static/media/logo_1.f4d40e83.png)\n",
    "\n",
    "In this Notebook, we shall be looking into utilizing the [EDGAR](https://www.sec.gov/edgar/searchedgar/) API to explore the SEC filings of a company. We shall be using the python library python-edgar to access the API. Be careful, the API is limited to 10 requests per second or smth, idk. If a black SUV shows up out in the open, it's probably because you're doing something wrong.\n",
    "\n",
    "## Objectives\n",
    "- Scrape Data from the company's History since inception\n",
    "- Use 10-Q 10-K and 8-K filings to get the company's financial statements\n",
    "- Use Financial Statements to get the company's balance sheet, income statement, cash flow statement, and ratios\n",
    "- Use the data to get the company's current assets, liabilities, and equity\n",
    "- Generate SaaS Metrics\n",
    "- Generate a Financial Statement Analysis\n",
    "- Use the metrics with Deep Learning Systems to give Insightful Results\n",
    "\n",
    "Graciaz<br>\n",
    "Kaushik Dey"
   ]
  },
  {
   "cell_type": "code",
   "execution_count": 1,
   "metadata": {},
   "outputs": [],
   "source": [
    "import requests as req\n",
    "import pandas as pd\n",
    "import xml.etree.ElementTree as et\n",
    "import matplotlib.pyplot as plt\n",
    "import pandasgui as pdgui\n",
    "import os\n",
    "import numpy as np\n",
    "import json\n",
    "import time\n",
    "import pyjsonviewer as pjv\n",
    "from bs4 import BeautifulSoup as bs"
   ]
  },
  {
   "cell_type": "markdown",
   "metadata": {},
   "source": [
    "## Parsing 10-K Documents\n",
    "\n",
    "#### What is a 10-K Form?\n",
    "A Form 10-K is an annual report required by the U.S. Securities and Exchange Commission (SEC), that gives a comprehensive summary of a company's financial performance. Some of the information a company is required to document in the 10-K includes its history, organizational structure, financial statements, earnings per share, subsidiaries, executive compensation, and any other relevant data.\n",
    "\n",
    "\n",
    "The SEC requires this report to keep investors aware of a company's financial condition and to allow them to have enough information before they buy or sell shares in the corporation, or before investing in the firm’s corporate bonds.\n",
    "\n",
    "#### Why we need 10-K Forms?\n",
    "The SEC mandates that all public companies file regular 10-Ks to keep investors aware of a company's financial condition and to allow them to have enough information before they buy or sell securities issued by that company. The 10-K can appear overly complex at first glance, complete with tables full of data and figures. However, it is because it is so comprehensive that this filing is key for investors to get a handle on a company's financial position and prospects.\n",
    "\n",
    "The Form 10-K is comprised of several parts. These include:\n",
    "\n",
    "- **Business summary:** This describes the company's operations. It would include information about business segments, products and services, subsidiaries, markets, regulatory issues, research and development, competition, and employees, among other details.\n",
    "- **Management Discussion and Analysis:** This section allows the company to explain its operations and financial results for the past year.\n",
    "- **Financial statements:** The financial statements would include the company's balance sheet, income statement, and cash flow statement.\n",
    "- **Additional sections:** Additional sections may discuss the company's management team and legal proceedings.\n"
   ]
  },
  {
   "cell_type": "code",
   "execution_count": 2,
   "metadata": {},
   "outputs": [
    {
     "data": {
      "text/plain": [
       "'FilingSummary'"
      ]
     },
     "execution_count": 2,
     "metadata": {},
     "output_type": "execute_result"
    }
   ],
   "source": [
    "file_base = \"https://sec.gov/Archives/edgar/data/746210/000074621021000024/\" # Base URL for filing\n",
    "filing_summary = file_base + \"FilingSummary.xml\"\n",
    "\n",
    "head = {\n",
    "    \"User-Agent\": \"Alpha-Explorer/1.0\",\n",
    "    \"Connection\": \"keep-alive\"\n",
    "}\n",
    "\n",
    "res = req.get(filing_summary, headers=head)\n",
    "\n",
    "root = et.fromstring(res.text)\n",
    "root.tag"
   ]
  },
  {
   "cell_type": "markdown",
   "metadata": {},
   "source": [
    "Filing Summary is essential as it will help us show the components of the 10-K in tabulated HTM"
   ]
  },
  {
   "cell_type": "code",
   "execution_count": 3,
   "metadata": {},
   "outputs": [
    {
     "data": {
      "text/plain": [
       "[{'name': 'CONSOLIDATED BALANCE SHEETS',\n",
       "  'url': 'https://sec.gov/Archives/edgar/data/746210/000074621021000024/R2.htm'},\n",
       " {'name': 'CONSOLIDATED BALANCE SHEETS (Parenthetical)',\n",
       "  'url': 'https://sec.gov/Archives/edgar/data/746210/000074621021000024/R3.htm'},\n",
       " {'name': \"CONSOLIDATED STATEMENT OF STOCKHOLDERS' EQUITY\",\n",
       "  'url': 'https://sec.gov/Archives/edgar/data/746210/000074621021000024/R5.htm'},\n",
       " {'name': 'CONSOLIDATED STATEMENTS OF CASH FLOWS',\n",
       "  'url': 'https://sec.gov/Archives/edgar/data/746210/000074621021000024/R6.htm'},\n",
       " {'name': 'CONSOLIDATED STATEMENTS OF CASH FLOWS (Parenthetical)',\n",
       "  'url': 'https://sec.gov/Archives/edgar/data/746210/000074621021000024/R7.htm'}]"
      ]
     },
     "execution_count": 3,
     "metadata": {},
     "output_type": "execute_result"
    }
   ],
   "source": [
    "#Exclude last entry or it creates an error\n",
    "component_dict = [] # Array to store our dictionary\n",
    "trigger_list = ['BALANCE SHEET', 'INCOME', 'CASH FLOW', 'EQUITY'] # List of triggers to look for\n",
    "for report in root.iter('Report'):\n",
    "    dict = {}\n",
    "    for trigger_word in trigger_list:\n",
    "        if trigger_word in report.find('ShortName').text:\n",
    "            try:\n",
    "                dict[\"name\"] = report.find('ShortName').text\n",
    "                dict[\"url\"] = file_base+report.find('HtmlFileName').text\n",
    "                component_dict.append(dict)\n",
    "            except:\n",
    "                print(\"No report found at some point\")\n",
    "\n",
    "component_dict"
   ]
  },
  {
   "cell_type": "markdown",
   "metadata": {},
   "source": [
    "### Extracting Tables into a Dictionary\n",
    "- The tables in the 10-K are in a html format\n",
    "- Create a dict where every data is stored categorized in headers and sections with data\n",
    "\n",
    "```html\n",
    "<table class=\"report\" border=\"0\" cellspacing=\"2\" id=\"idm139636460643688\">\n",
    "    <tr>\n",
    "        <th class=\"tl\" colspan=\"1\" rowspan=\"1\"><div style=\"width: 200px;\">\n",
    "            <strong>CONSOLIDATED BALANCE SHEETS - USD ($)<br> $ in Thousands</strong></div>\n",
    "        </th>\n",
    "        <th class=\"th\">\n",
    "            <div>Dec. 31, 2020</div>\n",
    "        </th>\n",
    "        <th class=\"th\">\n",
    "            <div>Dec. 31, 2019</div>\n",
    "        </th>\n",
    "    </tr>\n",
    "    <tr class=\"re\">\n",
    "        <td class=\"pl \" style=\"border-bottom: 0px;\" valign=\"top\">\n",
    "            <a class=\"a\" href=\"javascript:void(0);\"><strong>Current assets:</strong></a>\n",
    "        </td>\n",
    "        <td class=\"text\">\n",
    "            &#160;<span></span>\n",
    "        </td>\n",
    "        <td class=\"text\">\n",
    "            &#160;<span></span>\n",
    "        </td>\n",
    "    </tr>\n",
    "    <tr class=\"ro\">\n",
    "        <td class=\"pl \" style=\"border-bottom: 0px;\" valign=\"top\">\n",
    "            <a class=\"a\" href=\"javascript:void(0);\">Cash</a>\n",
    "        </td>\n",
    "        <td class=\"nump\">\n",
    "            $ 5,058<span></span>\n",
    "        </td>\n",
    "        <td class=\"nump\">\n",
    "            $ 4,602<span></span>\n",
    "        </td>\n",
    "    </tr>\n",
    "```\n",
    "\n",
    "Some details we can see here are:\n",
    "\n",
    "- header rows are ez to recognize, they have `<th>` tags\n",
    "- sections are however, not so ez, they have `<strong>` tags inside, but the tags are `<td>`, also the empty ones have `&#160;<span></span>` within them\n",
    "- the numbers are in the `<td>` tags, but they are in `<span>` tags, so we need to extract the numbers."
   ]
  },
  {
   "cell_type": "code",
   "execution_count": 7,
   "metadata": {},
   "outputs": [
    {
     "ename": "ValueError",
     "evalue": "Length mismatch: Expected axis has 0 elements, new values have 3 elements",
     "output_type": "error",
     "traceback": [
      "\u001b[1;31m---------------------------------------------------------------------------\u001b[0m",
      "\u001b[1;31mValueError\u001b[0m                                Traceback (most recent call last)",
      "\u001b[1;32mc:\\Users\\Kaushik Dey\\Desktop\\Inter IIT\\alpha-explorer\\python-scripts\\form-processor.ipynb Cell 8'\u001b[0m in \u001b[0;36m<module>\u001b[1;34m\u001b[0m\n\u001b[0;32m     <a href='vscode-notebook-cell:/c%3A/Users/Kaushik%20Dey/Desktop/Inter%20IIT/alpha-explorer/python-scripts/form-processor.ipynb#ch0000007?line=41'>42</a>\u001b[0m \u001b[39m# Convert to DF and remove all unneccessary characters\u001b[39;00m\n\u001b[0;32m     <a href='vscode-notebook-cell:/c%3A/Users/Kaushik%20Dey/Desktop/Inter%20IIT/alpha-explorer/python-scripts/form-processor.ipynb#ch0000007?line=42'>43</a>\u001b[0m component[\u001b[39m'\u001b[39m\u001b[39mtable\u001b[39m\u001b[39m'\u001b[39m] \u001b[39m=\u001b[39m pd\u001b[39m.\u001b[39mDataFrame(table[\u001b[39m'\u001b[39m\u001b[39mrows\u001b[39m\u001b[39m'\u001b[39m])\u001b[39m.\u001b[39mreplace(\u001b[39m'\u001b[39m\u001b[39m[\u001b[39m\u001b[39m\\\u001b[39m\u001b[39m$,)]\u001b[39m\u001b[39m'\u001b[39m,\u001b[39m'\u001b[39m\u001b[39m'\u001b[39m, regex\u001b[39m=\u001b[39m\u001b[39mTrue\u001b[39;00m )\u001b[39m.\u001b[39mreplace( \u001b[39m'\u001b[39m\u001b[39m[(]\u001b[39m\u001b[39m'\u001b[39m,\u001b[39m'\u001b[39m\u001b[39m-\u001b[39m\u001b[39m'\u001b[39m, regex\u001b[39m=\u001b[39m\u001b[39mTrue\u001b[39;00m)\u001b[39m.\u001b[39mreplace( \u001b[39m'\u001b[39m\u001b[39m'\u001b[39m, \u001b[39m'\u001b[39m\u001b[39mNaN\u001b[39m\u001b[39m'\u001b[39m, regex\u001b[39m=\u001b[39m\u001b[39mTrue\u001b[39;00m)\n\u001b[1;32m---> <a href='vscode-notebook-cell:/c%3A/Users/Kaushik%20Dey/Desktop/Inter%20IIT/alpha-explorer/python-scripts/form-processor.ipynb#ch0000007?line=43'>44</a>\u001b[0m component[\u001b[39m'\u001b[39m\u001b[39mtable\u001b[39m\u001b[39m'\u001b[39m]\u001b[39m.\u001b[39mcolumns \u001b[39m=\u001b[39m table[\u001b[39m'\u001b[39m\u001b[39mheaders\u001b[39m\u001b[39m'\u001b[39m]\n",
      "File \u001b[1;32mC:\\Python310\\lib\\site-packages\\pandas\\core\\generic.py:5596\u001b[0m, in \u001b[0;36mNDFrame.__setattr__\u001b[1;34m(self, name, value)\u001b[0m\n\u001b[0;32m   <a href='file:///c%3A/Python310/lib/site-packages/pandas/core/generic.py?line=5593'>5594</a>\u001b[0m \u001b[39mtry\u001b[39;00m:\n\u001b[0;32m   <a href='file:///c%3A/Python310/lib/site-packages/pandas/core/generic.py?line=5594'>5595</a>\u001b[0m     \u001b[39mobject\u001b[39m\u001b[39m.\u001b[39m\u001b[39m__getattribute__\u001b[39m(\u001b[39mself\u001b[39m, name)\n\u001b[1;32m-> <a href='file:///c%3A/Python310/lib/site-packages/pandas/core/generic.py?line=5595'>5596</a>\u001b[0m     \u001b[39mreturn\u001b[39;00m \u001b[39mobject\u001b[39;49m\u001b[39m.\u001b[39;49m\u001b[39m__setattr__\u001b[39;49m(\u001b[39mself\u001b[39;49m, name, value)\n\u001b[0;32m   <a href='file:///c%3A/Python310/lib/site-packages/pandas/core/generic.py?line=5596'>5597</a>\u001b[0m \u001b[39mexcept\u001b[39;00m \u001b[39mAttributeError\u001b[39;00m:\n\u001b[0;32m   <a href='file:///c%3A/Python310/lib/site-packages/pandas/core/generic.py?line=5597'>5598</a>\u001b[0m     \u001b[39mpass\u001b[39;00m\n",
      "File \u001b[1;32mC:\\Python310\\lib\\site-packages\\pandas\\_libs\\properties.pyx:70\u001b[0m, in \u001b[0;36mpandas._libs.properties.AxisProperty.__set__\u001b[1;34m()\u001b[0m\n",
      "File \u001b[1;32mC:\\Python310\\lib\\site-packages\\pandas\\core\\generic.py:769\u001b[0m, in \u001b[0;36mNDFrame._set_axis\u001b[1;34m(self, axis, labels)\u001b[0m\n\u001b[0;32m    <a href='file:///c%3A/Python310/lib/site-packages/pandas/core/generic.py?line=766'>767</a>\u001b[0m \u001b[39mdef\u001b[39;00m \u001b[39m_set_axis\u001b[39m(\u001b[39mself\u001b[39m, axis: \u001b[39mint\u001b[39m, labels: Index) \u001b[39m-\u001b[39m\u001b[39m>\u001b[39m \u001b[39mNone\u001b[39;00m:\n\u001b[0;32m    <a href='file:///c%3A/Python310/lib/site-packages/pandas/core/generic.py?line=767'>768</a>\u001b[0m     labels \u001b[39m=\u001b[39m ensure_index(labels)\n\u001b[1;32m--> <a href='file:///c%3A/Python310/lib/site-packages/pandas/core/generic.py?line=768'>769</a>\u001b[0m     \u001b[39mself\u001b[39;49m\u001b[39m.\u001b[39;49m_mgr\u001b[39m.\u001b[39;49mset_axis(axis, labels)\n\u001b[0;32m    <a href='file:///c%3A/Python310/lib/site-packages/pandas/core/generic.py?line=769'>770</a>\u001b[0m     \u001b[39mself\u001b[39m\u001b[39m.\u001b[39m_clear_item_cache()\n",
      "File \u001b[1;32mC:\\Python310\\lib\\site-packages\\pandas\\core\\internals\\managers.py:214\u001b[0m, in \u001b[0;36mBaseBlockManager.set_axis\u001b[1;34m(self, axis, new_labels)\u001b[0m\n\u001b[0;32m    <a href='file:///c%3A/Python310/lib/site-packages/pandas/core/internals/managers.py?line=211'>212</a>\u001b[0m \u001b[39mdef\u001b[39;00m \u001b[39mset_axis\u001b[39m(\u001b[39mself\u001b[39m, axis: \u001b[39mint\u001b[39m, new_labels: Index) \u001b[39m-\u001b[39m\u001b[39m>\u001b[39m \u001b[39mNone\u001b[39;00m:\n\u001b[0;32m    <a href='file:///c%3A/Python310/lib/site-packages/pandas/core/internals/managers.py?line=212'>213</a>\u001b[0m     \u001b[39m# Caller is responsible for ensuring we have an Index object.\u001b[39;00m\n\u001b[1;32m--> <a href='file:///c%3A/Python310/lib/site-packages/pandas/core/internals/managers.py?line=213'>214</a>\u001b[0m     \u001b[39mself\u001b[39;49m\u001b[39m.\u001b[39;49m_validate_set_axis(axis, new_labels)\n\u001b[0;32m    <a href='file:///c%3A/Python310/lib/site-packages/pandas/core/internals/managers.py?line=214'>215</a>\u001b[0m     \u001b[39mself\u001b[39m\u001b[39m.\u001b[39maxes[axis] \u001b[39m=\u001b[39m new_labels\n",
      "File \u001b[1;32mC:\\Python310\\lib\\site-packages\\pandas\\core\\internals\\base.py:69\u001b[0m, in \u001b[0;36mDataManager._validate_set_axis\u001b[1;34m(self, axis, new_labels)\u001b[0m\n\u001b[0;32m     <a href='file:///c%3A/Python310/lib/site-packages/pandas/core/internals/base.py?line=65'>66</a>\u001b[0m     \u001b[39mpass\u001b[39;00m\n\u001b[0;32m     <a href='file:///c%3A/Python310/lib/site-packages/pandas/core/internals/base.py?line=67'>68</a>\u001b[0m \u001b[39melif\u001b[39;00m new_len \u001b[39m!=\u001b[39m old_len:\n\u001b[1;32m---> <a href='file:///c%3A/Python310/lib/site-packages/pandas/core/internals/base.py?line=68'>69</a>\u001b[0m     \u001b[39mraise\u001b[39;00m \u001b[39mValueError\u001b[39;00m(\n\u001b[0;32m     <a href='file:///c%3A/Python310/lib/site-packages/pandas/core/internals/base.py?line=69'>70</a>\u001b[0m         \u001b[39mf\u001b[39m\u001b[39m\"\u001b[39m\u001b[39mLength mismatch: Expected axis has \u001b[39m\u001b[39m{\u001b[39;00mold_len\u001b[39m}\u001b[39;00m\u001b[39m elements, new \u001b[39m\u001b[39m\"\u001b[39m\n\u001b[0;32m     <a href='file:///c%3A/Python310/lib/site-packages/pandas/core/internals/base.py?line=70'>71</a>\u001b[0m         \u001b[39mf\u001b[39m\u001b[39m\"\u001b[39m\u001b[39mvalues have \u001b[39m\u001b[39m{\u001b[39;00mnew_len\u001b[39m}\u001b[39;00m\u001b[39m elements\u001b[39m\u001b[39m\"\u001b[39m\n\u001b[0;32m     <a href='file:///c%3A/Python310/lib/site-packages/pandas/core/internals/base.py?line=71'>72</a>\u001b[0m     )\n",
      "\u001b[1;31mValueError\u001b[0m: Length mismatch: Expected axis has 0 elements, new values have 3 elements"
     ]
    }
   ],
   "source": [
    "head = {\n",
    "    \"User-Agent\": \"Alpha-Explorer/1.0\",\n",
    "    \"Connection\": \"keep-alive\"\n",
    "}\n",
    "\n",
    "keypoints = ['profit','total']\n",
    "\n",
    "def has_keypoints(str, list):\n",
    "    for key in list:\n",
    "        if key in str.lower():\n",
    "            return True\n",
    "    return False\n",
    "\n",
    "for component in component_dict:\n",
    "    res = req.get(component[\"url\"], headers=head)\n",
    "    soup = bs(res.text, \"html\")\n",
    "\n",
    "    #Sample Data\n",
    "\n",
    "    table = {}\n",
    "\n",
    "    table['headers'] = []\n",
    "    table['rows'] = []\n",
    "    table['sections'] = []\n",
    "\n",
    "    for i, row in enumerate(soup.table.find_all('tr')):\n",
    "\n",
    "        # Data Row\n",
    "        if (len(row.find_all('th')) == 0 and len(row.find_all('strong')) == 0):\n",
    "            dat = [ e.text.strip() for e in row.find_all('td') ]\n",
    "            if has_keypoints(dat[0],keypoints): table['rows'].append(dat)\n",
    "        #Section Row\n",
    "        elif (len(row.find_all('th')) == 0 and len(row.find_all('strong')) != 0):\n",
    "            dat = [ e.text.strip() for e in row.find_all('strong') ]\n",
    "            table['sections'].append(dat)\n",
    "        #Header Row\n",
    "        elif len(row.find_all('th')) != 0:\n",
    "            dat = [ e.text.strip() for e in row.find_all('th') ]\n",
    "            table['headers'].append(dat)\n",
    "        else:\n",
    "            print('Error @ Row ', i, ' In Table ', dat['name'])\n",
    "    # Convert to DF and remove all unneccessary characters\n",
    "    component['table'] = pd.DataFrame(table['rows']).replace('[\\$,)]','', regex=True ).replace( '[(]','-', regex=True).replace( '', 'NaN', regex=True)\n",
    "    component['table'].columns = table['headers']\n"
   ]
  },
  {
   "cell_type": "markdown",
   "metadata": {},
   "source": [
    "### Arranging Data into DF and providing headers"
   ]
  },
  {
   "cell_type": "code",
   "execution_count": 10,
   "metadata": {},
   "outputs": [
    {
     "data": {
      "text/plain": [
       "{'headers': [['CONSOLIDATED BALANCE SHEETS (Parenthetical) - USD ($)',\n",
       "   'Dec. 31, 2020',\n",
       "   'Dec. 31, 2019']],\n",
       " 'rows': [],\n",
       " 'sections': []}"
      ]
     },
     "execution_count": 10,
     "metadata": {},
     "output_type": "execute_result"
    }
   ],
   "source": [
    "table"
   ]
  }
 ],
 "metadata": {
  "interpreter": {
   "hash": "b11e59ebaf0bf1639a2e7e2eb790022d0df6ec4b0f66e94fc5588635a1ac2f6b"
  },
  "kernelspec": {
   "display_name": "Python 3.10.2 64-bit",
   "language": "python",
   "name": "python3"
  },
  "language_info": {
   "codemirror_mode": {
    "name": "ipython",
    "version": 3
   },
   "file_extension": ".py",
   "mimetype": "text/x-python",
   "name": "python",
   "nbconvert_exporter": "python",
   "pygments_lexer": "ipython3",
   "version": "3.10.2"
  },
  "orig_nbformat": 4
 },
 "nbformat": 4,
 "nbformat_minor": 2
}
