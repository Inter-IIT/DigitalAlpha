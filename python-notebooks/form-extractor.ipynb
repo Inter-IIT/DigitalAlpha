{
 "cells": [
  {
   "cell_type": "markdown",
   "metadata": {},
   "source": [
    "# **EXPLORER FOR SEC FILINGS**\n",
    "<hr>\n",
    "\n",
    "## Inter IIT Tech Meet 10.0 (2022)\n",
    "\n",
    "![image](https://www.sec.gov/edgar/search/images/edgar-logo-2x.png)\n",
    "![image](https://interiit-tech.org/static/media/logo_1.f4d40e83.png)\n",
    "\n",
    "In this Notebook, we shall be looking into utilizing the [EDGAR](https://www.sec.gov/edgar/searchedgar/) API to explore the SEC filings of a company. We shall be using the python library python-edgar to access the API. Be careful, the API is limited to 10 requests per second or smth, idk. If a black SUV shows up out in the open, it's probably because you're doing something wrong.\n",
    "\n",
    "## Objectives\n",
    "- Scrape Data from the company's History since inception\n",
    "- Use 10-Q 10-K and 8-K filings to get the company's financial statements\n",
    "- Use Financial Statements to get the company's balance sheet, income statement, cash flow statement, and ratios\n",
    "- Use the data to get the company's current assets, liabilities, and equity\n",
    "- Generate SaaS Metrics\n",
    "- Generate a Financial Statement Analysis\n",
    "- Use the metrics with Deep Learning Systems to give Insightful Results\n",
    "\n",
    "Graciaz<br>\n",
    "Kaushik Dey"
   ]
  },
  {
   "cell_type": "code",
   "execution_count": 1,
   "metadata": {},
   "outputs": [],
   "source": [
    "import requests\n",
    "import pandas as pd\n",
    "import matplotlib.pyplot as plt\n",
    "import pandasgui as pdgui\n",
    "import os\n",
    "import numpy as np\n",
    "import json\n",
    "import time\n",
    "import pyjsonviewer as pjv\n",
    "from bs4 import BeautifulSoup as bs"
   ]
  },
  {
   "cell_type": "markdown",
   "metadata": {},
   "source": [
    "### Explore the Data\n",
    "\n",
    "- Find the Data Structure\n",
    "- Figure out the Form Links\n",
    "- Find a way to store some of the data to train models"
   ]
  },
  {
   "cell_type": "code",
   "execution_count": 9,
   "metadata": {},
   "outputs": [],
   "source": [
    "company_data = pd.read_csv('data/company_summary.csv')\n"
   ]
  },
  {
   "cell_type": "markdown",
   "metadata": {},
   "source": [
    "### Analysing the JSON Structure\n",
    "\n",
    "The Structure of the File Looks Something Like\n",
    "\n",
    "```json\n",
    "\"filings\": {\n",
    "    \"recent\": {\n",
    "        \"accessionNumber\": [] # List of accession numbers\n",
    "        \"filingDate\": []\n",
    "        \"reportDate\": []\n",
    "        \"acceptanceDateTime\": []\n",
    "        \"act\": []\n",
    "        \"form\": [] # Look for 10-K 8-K 10-Q here\n",
    "        \"fileNumber\": []\n",
    "        \"filmNumber\": []\n",
    "        \"items\": []\n",
    "        \"size\": []\n",
    "        \"isXBRL\": []\n",
    "        \"isInlineXBRL\": []\n",
    "        \"primaryDocument\": [] # The Document we need\n",
    "        \"primaryDocDescription\": []\n",
    "\n",
    "    }\n",
    "    files: []\n",
    "}\n",
    "```"
   ]
  },
  {
   "cell_type": "markdown",
   "metadata": {},
   "source": [
    "### Lets now Explore the data in single file"
   ]
  },
  {
   "cell_type": "code",
   "execution_count": 12,
   "metadata": {},
   "outputs": [
    {
     "name": "stdout",
     "output_type": "stream",
     "text": [
      "APPF\n"
     ]
    }
   ],
   "source": [
    "file = json.loads(company_data[\"HISTORY\"][21])\n",
    "\n",
    "head = {\n",
    "    \"User-Agent\": \"Alpha-Explorer/1.0\",\n",
    "    \"Connection\": \"keep-alive\"\n",
    "}\n",
    "\n",
    "sample = \"https://sec.gov/Archives/edgar/data/\" \n",
    "sample += file[\"cik\"] + \"/\"\n",
    "sample += file[\"filings\"][\"recent\"][\"accessionNumber\"][0].replace(\"-\", \"\")\n",
    "sample += \"/\" + file[\"filings\"][\"recent\"][\"primaryDocument\"][0]\n",
    "\n",
    "response= requests.get(sample, headers=head)\n",
    "\n",
    "print(file[\"tickers\"][0])"
   ]
  },
  {
   "cell_type": "markdown",
   "metadata": {},
   "source": [
    "### Lets Now see how iterating through the data works"
   ]
  },
  {
   "cell_type": "code",
   "execution_count": 5,
   "metadata": {},
   "outputs": [
    {
     "name": "stdout",
     "output_type": "stream",
     "text": [
      "10K Form Dates\n",
      "76 )  2021-02-25\n",
      "147 )  2020-02-28\n",
      "220 )  2019-02-26\n",
      "288 )  2018-02-27\n",
      "367 )  2017-02-24\n",
      "439 )  2016-03-10\n",
      "566 )  2015-02-26\n"
     ]
    }
   ],
   "source": [
    "# Now We Try Iterating Thorugh the Data\n",
    "file = json.loads(company_data[\"HISTORY\"][0])\n",
    "length = len(file[\"filings\"][\"recent\"][\"accessionNumber\"])\n",
    "file_dict = file[\"filings\"][\"recent\"]\n",
    "print(\"10K Form Dates\")\n",
    "for i in range(length):\n",
    "    if file_dict[\"form\"][i] == \"10-K\":\n",
    "        print( i,\") \",file_dict[\"filingDate\"][i])"
   ]
  },
  {
   "cell_type": "markdown",
   "metadata": {},
   "source": [
    "### Lets now try and scrape a single data for some real data\n",
    "- Get a 10-K Form\n",
    "- Get the Form's Data\n",
    "- Try scrape for relevant tables\n",
    "- Find Table to do stuff"
   ]
  },
  {
   "cell_type": "code",
   "execution_count": 7,
   "metadata": {},
   "outputs": [
    {
     "name": "stdout",
     "output_type": "stream",
     "text": [
      "Corp:  Cloudera, Inc.\n",
      "77 ) Date: 2021-03-25\n",
      "Url:  https://sec.gov/Archives/edgar/data/1535379/000162828021005632/cldr-20210131.htm\n",
      "176 ) Date: 2020-03-27\n",
      "Url:  https://sec.gov/Archives/edgar/data/1535379/000162828020004231/cldr-20200131.htm\n",
      "275 ) Date: 2019-03-29\n",
      "Url:  https://sec.gov/Archives/edgar/data/1535379/000162828019003670/fy-19cldr10k.htm\n",
      "401 ) Date: 2018-04-04\n",
      "Url:  https://sec.gov/Archives/edgar/data/1535379/000162828018004005/fy-18cldr10k.htm\n"
     ]
    }
   ],
   "source": [
    "file = json.loads(company_data[\"HISTORY\"][69]) #Oblong\n",
    "print(\"Corp: \",file[\"name\"])\n",
    "length = len(file[\"filings\"][\"recent\"][\"accessionNumber\"])\n",
    "file_dict = file[\"filings\"][\"recent\"]\n",
    "\n",
    "\n",
    "head = {\n",
    "    \"User-Agent\": \"Alpha-Explorer/1.0\",\n",
    "    \"Connection\": \"keep-alive\"\n",
    "}\n",
    "\n",
    "for i in range(length):\n",
    "    if file_dict[\"form\"][i] == \"10-K\":\n",
    "\n",
    "        #Define the URL\n",
    "        print( i,\") Date:\",file_dict[\"filingDate\"][i])\n",
    "        sample = \"https://sec.gov/Archives/edgar/data/\" \n",
    "        sample += file[\"cik\"] + \"/\"\n",
    "        sample += file[\"filings\"][\"recent\"][\"accessionNumber\"][i].replace(\"-\", \"\")\n",
    "        sample += \"/\" + file[\"filings\"][\"recent\"][\"primaryDocument\"][i]\n",
    "        print(\"Url: \",sample)\n",
    "        \n"
   ]
  },
  {
   "cell_type": "markdown",
   "metadata": {},
   "source": []
  },
  {
   "cell_type": "code",
   "execution_count": 1,
   "metadata": {},
   "outputs": [
    {
     "ename": "NameError",
     "evalue": "name 'json' is not defined",
     "output_type": "error",
     "traceback": [
      "\u001b[1;31m---------------------------------------------------------------------------\u001b[0m",
      "\u001b[1;31mNameError\u001b[0m                                 Traceback (most recent call last)",
      "\u001b[1;32mc:\\Users\\Kaushik Dey\\Documents\\DigitalAlpha\\python-notebooks\\form-extractor.ipynb Cell 13'\u001b[0m in \u001b[0;36m<module>\u001b[1;34m\u001b[0m\n\u001b[1;32m----> <a href='vscode-notebook-cell:/c%3A/Users/Kaushik%20Dey/Documents/DigitalAlpha/python-notebooks/form-extractor.ipynb#ch0000012?line=0'>1</a>\u001b[0m file \u001b[39m=\u001b[39m json\u001b[39m.\u001b[39mloads(company_data[\u001b[39m\"\u001b[39m\u001b[39mHISTORY\u001b[39m\u001b[39m\"\u001b[39m][\u001b[39m69\u001b[39m]) \u001b[39m#Oblong\u001b[39;00m\n\u001b[0;32m      <a href='vscode-notebook-cell:/c%3A/Users/Kaushik%20Dey/Documents/DigitalAlpha/python-notebooks/form-extractor.ipynb#ch0000012?line=1'>2</a>\u001b[0m \u001b[39mprint\u001b[39m(\u001b[39m\"\u001b[39m\u001b[39mCorp: \u001b[39m\u001b[39m\"\u001b[39m,file[\u001b[39m\"\u001b[39m\u001b[39mname\u001b[39m\u001b[39m\"\u001b[39m])\n\u001b[0;32m      <a href='vscode-notebook-cell:/c%3A/Users/Kaushik%20Dey/Documents/DigitalAlpha/python-notebooks/form-extractor.ipynb#ch0000012?line=2'>3</a>\u001b[0m length \u001b[39m=\u001b[39m \u001b[39mlen\u001b[39m(file[\u001b[39m\"\u001b[39m\u001b[39mfilings\u001b[39m\u001b[39m\"\u001b[39m][\u001b[39m\"\u001b[39m\u001b[39mrecent\u001b[39m\u001b[39m\"\u001b[39m][\u001b[39m\"\u001b[39m\u001b[39maccessionNumber\u001b[39m\u001b[39m\"\u001b[39m])\n",
      "\u001b[1;31mNameError\u001b[0m: name 'json' is not defined"
     ]
    }
   ],
   "source": [
    "file = json.loads(company_data[\"HISTORY\"][69]) #Oblong\n",
    "print(\"Corp: \",file[\"name\"])\n",
    "length = len(file[\"filings\"][\"recent\"][\"accessionNumber\"])\n",
    "file_dict = file[\"filings\"][\"recent\"]\n",
    "\n",
    "\n",
    "head = {\n",
    "    \"User-Agent\": \"Alpha-Explorer/1.0\",\n",
    "    \"Connection\": \"keep-alive\"\n",
    "}\n",
    "\n",
    "for i in range(length):\n",
    "    if file_dict[\"form\"][i] == \"10-Q\":\n",
    "\n",
    "        #Define the URL\n",
    "        print( i,\") Date:\",file_dict[\"filingDate\"][i])\n",
    "        sample = \"https://sec.gov/Archives/edgar/data/\" \n",
    "        sample += file[\"cik\"] + \"/\"\n",
    "        sample += file[\"filings\"][\"recent\"][\"accessionNumber\"][i].replace(\"-\", \"\")\n",
    "        sample += \"/\" + file[\"filings\"][\"recent\"][\"primaryDocument\"][i]\n",
    "        print(\"Url: \",sample)"
   ]
  }
 ],
 "metadata": {
  "interpreter": {
   "hash": "2be5faf79681da6f2a61fdfdd5405d65d042280f7fba6178067603e3a2925119"
  },
  "kernelspec": {
   "display_name": "Python 3.10.2 64-bit (system)",
   "language": "python",
   "name": "python3"
  },
  "language_info": {
   "codemirror_mode": {
    "name": "ipython",
    "version": 3
   },
   "file_extension": ".py",
   "mimetype": "text/x-python",
   "name": "python",
   "nbconvert_exporter": "python",
   "pygments_lexer": "ipython3",
   "version": "3.10.2"
  },
  "orig_nbformat": 4
 },
 "nbformat": 4,
 "nbformat_minor": 2
}
